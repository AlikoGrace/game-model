{
 "cells": [
  {
   "cell_type": "code",
   "execution_count": 10,
   "id": "6d9ad26c",
   "metadata": {},
   "outputs": [
    {
     "ename": "TypeError",
     "evalue": "'Index' object is not callable",
     "output_type": "error",
     "traceback": [
      "\u001b[1;31m---------------------------------------------------------------------------\u001b[0m",
      "\u001b[1;31mTypeError\u001b[0m                                 Traceback (most recent call last)",
      "Cell \u001b[1;32mIn[10], line 35\u001b[0m\n\u001b[0;32m     33\u001b[0m data_path \u001b[38;5;241m=\u001b[39m \u001b[38;5;124m\"\u001b[39m\u001b[38;5;124mDys_Cleaned1.csv\u001b[39m\u001b[38;5;124m\"\u001b[39m\n\u001b[0;32m     34\u001b[0m model_filename \u001b[38;5;241m=\u001b[39m \u001b[38;5;124m\"\u001b[39m\u001b[38;5;124mmodel.pkl\u001b[39m\u001b[38;5;124m\"\u001b[39m\n\u001b[1;32m---> 35\u001b[0m train_and_save_model(data_path, model_filename)\n",
      "Cell \u001b[1;32mIn[10], line 17\u001b[0m, in \u001b[0;36mtrain_and_save_model\u001b[1;34m(data_path, model_filename)\u001b[0m\n\u001b[0;32m     15\u001b[0m \u001b[38;5;66;03m# Load data\u001b[39;00m\n\u001b[0;32m     16\u001b[0m data \u001b[38;5;241m=\u001b[39m pd\u001b[38;5;241m.\u001b[39mread_csv(\u001b[38;5;124m\"\u001b[39m\u001b[38;5;124mDys_Cleaned1.csv\u001b[39m\u001b[38;5;124m\"\u001b[39m)\n\u001b[1;32m---> 17\u001b[0m data\u001b[38;5;241m.\u001b[39mcolumns()\n\u001b[0;32m     18\u001b[0m X \u001b[38;5;241m=\u001b[39m data\u001b[38;5;241m.\u001b[39mdrop(columns\u001b[38;5;241m=\u001b[39m[\u001b[38;5;124m'\u001b[39m\u001b[38;5;124mDyslexia\u001b[39m\u001b[38;5;124m'\u001b[39m])  \u001b[38;5;66;03m# Features\u001b[39;00m\n\u001b[0;32m     19\u001b[0m y \u001b[38;5;241m=\u001b[39m data[\u001b[38;5;124m'\u001b[39m\u001b[38;5;124mDyslexia\u001b[39m\u001b[38;5;124m'\u001b[39m]  \u001b[38;5;66;03m# Target variable\u001b[39;00m\n",
      "\u001b[1;31mTypeError\u001b[0m: 'Index' object is not callable"
     ]
    }
   ],
   "source": [
    "import pandas as pd\n",
    "from sklearn.tree import DecisionTreeClassifier\n",
    "from sklearn.model_selection import train_test_split\n",
    "from sklearn.metrics import accuracy_score\n",
    "from joblib import dump  # For saving the model\n",
    "\n",
    "def train_and_save_model(data_path, model_filename):\n",
    "    \"\"\"\n",
    "    Trains a DecisionTreeClassifier model on the given data and saves it to a file.\n",
    "\n",
    "    Args:\n",
    "        data_path (str): Path to your CSV dataset containing features and target variable.\n",
    "        model_filename (str): Filename to save the trained model.\n",
    "    \"\"\"\n",
    "    # Load data\n",
    "    data = pd.read_csv(\"Dys_Cleaned1.csv\")\n",
    "\n",
    "    X = data.drop(columns=['Dyslexia'])  # Features\n",
    "    y = data['Dyslexia']  # Target variable\n",
    "\n",
    "    # Split data into training and testing sets\n",
    "    X_train, X_test, y_train, y_test = train_test_split(X, y, test_size=0.2, random_state=42)\n",
    "\n",
    "    # Train the model\n",
    "    model = DecisionTreeClassifier()\n",
    "    model.fit(X_train, y_train)\n",
    "\n",
    "    # Save the model\n",
    "    dump(model, model_filename)\n",
    "    print(f\"Model saved successfully to: {model_filename}\")\n",
    "\n",
    "# Example usage (replace with your data path and desired filename)\n",
    "data_path = \"Dys_Cleaned1.csv\"\n",
    "model_filename = \"model.pkl\"\n",
    "train_and_save_model(data_path, model_filename)\n"
   ]
  },
  {
   "cell_type": "code",
   "execution_count": null,
   "id": "b57beb2c",
   "metadata": {},
   "outputs": [],
   "source": []
  },
  {
   "cell_type": "code",
   "execution_count": null,
   "id": "b3773679",
   "metadata": {},
   "outputs": [],
   "source": []
  }
 ],
 "metadata": {
  "kernelspec": {
   "display_name": "Python 3 (ipykernel)",
   "language": "python",
   "name": "python3"
  },
  "language_info": {
   "codemirror_mode": {
    "name": "ipython",
    "version": 3
   },
   "file_extension": ".py",
   "mimetype": "text/x-python",
   "name": "python",
   "nbconvert_exporter": "python",
   "pygments_lexer": "ipython3",
   "version": "3.11.5"
  }
 },
 "nbformat": 4,
 "nbformat_minor": 5
}
